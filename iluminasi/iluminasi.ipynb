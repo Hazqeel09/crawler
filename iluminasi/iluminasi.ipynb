{
 "cells": [
  {
   "cell_type": "code",
   "execution_count": 1,
   "id": "0f9d1ad4",
   "metadata": {},
   "outputs": [],
   "source": [
    "from bs4 import BeautifulSoup\n",
    "import pandas as pd\n",
    "import json\n",
    "import requests\n",
    "from urllib.request import urlopen\n",
    "from datetime import datetime\n",
    "from tqdm import tqdm\n",
    "import time\n",
    "import jsonlines\n",
    "import ast\n",
    "import codecs\n",
    "import langid"
   ]
  },
  {
   "cell_type": "code",
   "execution_count": 2,
   "id": "c82b6498",
   "metadata": {},
   "outputs": [
    {
     "name": "stderr",
     "output_type": "stream",
     "text": [
      "100%|████████████████████████████████████████████████████████████████████████████████| 471/471 [04:19<00:00,  1.82it/s]\n"
     ]
    }
   ],
   "source": [
    "hrefs = []\n",
    "\n",
    "for i in tqdm(range(471)):\n",
    "    while True:\n",
    "        try:\n",
    "            r = requests.get(f'https://iluminasi.com/?p={i}')\n",
    "            if r.status_code == 200:\n",
    "                break\n",
    "        except:\n",
    "            time.sleep(1.3)\n",
    "\n",
    "    soup = BeautifulSoup(r.text, \"lxml\")\n",
    "    div = soup.find_all('div', attrs = {\"id\":\"lindex\"})\n",
    "\n",
    "    if len(div) == 0:\n",
    "        break\n",
    "\n",
    "    for j in range(len(div[0].find_all(\"a\"))):\n",
    "        hrefs.append(div[0].find_all(\"a\")[j].get(\"href\"))"
   ]
  },
  {
   "cell_type": "code",
   "execution_count": 3,
   "id": "09dca2fa",
   "metadata": {},
   "outputs": [
    {
     "data": {
      "text/plain": [
       "8460"
      ]
     },
     "execution_count": 3,
     "metadata": {},
     "output_type": "execute_result"
    }
   ],
   "source": [
    "len(hrefs)"
   ]
  },
  {
   "cell_type": "code",
   "execution_count": 4,
   "id": "9cc83f4d",
   "metadata": {},
   "outputs": [
    {
     "data": {
      "text/plain": [
       "8460"
      ]
     },
     "execution_count": 4,
     "metadata": {},
     "output_type": "execute_result"
    }
   ],
   "source": [
    "len(set(hrefs))"
   ]
  },
  {
   "cell_type": "code",
   "execution_count": 5,
   "id": "803a5fcd",
   "metadata": {},
   "outputs": [],
   "source": [
    "root_link = \"https://iluminasi.com\""
   ]
  },
  {
   "cell_type": "code",
   "execution_count": 6,
   "id": "c009cdda",
   "metadata": {},
   "outputs": [
    {
     "name": "stderr",
     "output_type": "stream",
     "text": [
      "100%|████████████████████████████████████████████████████████████████████████████| 8460/8460 [1:24:49<00:00,  1.66it/s]\n"
     ]
    }
   ],
   "source": [
    "for href in tqdm(hrefs):\n",
    "    \n",
    "    url = root_link + href\n",
    "    while True:\n",
    "        try:\n",
    "            r = requests.get(url)\n",
    "            if r.status_code == 200:\n",
    "                break\n",
    "        except Exception as e:\n",
    "            print(e)\n",
    "            time.sleep(3.9)\n",
    "            \n",
    "    soup = BeautifulSoup(r.text, \"lxml\")\n",
    "    title = soup.find(\"h1\", attrs = {\"itemprop\":\"name headline\"}).text.strip()\n",
    "    \n",
    "    div = soup.find_all('div', attrs = {\"itemprop\":\"articleBody\"})\n",
    "    p = [p.text for p in div[0].find_all(\"p\") if len(p.text.split()) > 9]\n",
    "    \n",
    "    data = {'url': url, 'headline': title, 'content': p}\n",
    "    \n",
    "    with open('iluminasi.jsonl', 'a') as f:\n",
    "        json.dump(data, f)\n",
    "        f.write('\\n')"
   ]
  },
  {
   "cell_type": "code",
   "execution_count": 7,
   "id": "7fd09fdb",
   "metadata": {},
   "outputs": [],
   "source": [
    "# Specify the input and output file paths\n",
    "input_file = \"iluminasi.jsonl\"\n",
    "output_file = \"iluminasi-cleaned.jsonl\"\n",
    "\n",
    "langid.set_languages(['ms', 'en'])  #ISO 639-1 codes\n",
    "\n",
    "# Open the input and output files\n",
    "with jsonlines.open(input_file) as reader, jsonlines.open(output_file, mode='w') as writer:\n",
    "    # Iterate over each line in the input file\n",
    "    for line in reader:\n",
    "        # Check if the content field is empty ([] or {})\n",
    "        if line['content']:\n",
    "            # Write the non-empty line to the output file\n",
    "            decoded_list = []\n",
    "            for string in line['content']:\n",
    "                try:\n",
    "                    decoded_string = codecs.escape_decode(string)[0].decode('utf-8')\n",
    "                except ValueError:\n",
    "                    decoded_string = string\n",
    "                decoded_list.append(decoded_string)\n",
    "            line['content'] = decoded_list\n",
    "\n",
    "            writer.write(line)"
   ]
  }
 ],
 "metadata": {
  "kernelspec": {
   "display_name": "Python 3 (ipykernel)",
   "language": "python",
   "name": "python3"
  },
  "language_info": {
   "codemirror_mode": {
    "name": "ipython",
    "version": 3
   },
   "file_extension": ".py",
   "mimetype": "text/x-python",
   "name": "python",
   "nbconvert_exporter": "python",
   "pygments_lexer": "ipython3",
   "version": "3.10.11"
  }
 },
 "nbformat": 4,
 "nbformat_minor": 5
}
