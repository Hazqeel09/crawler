{
 "cells": [
  {
   "cell_type": "code",
   "execution_count": 1,
   "id": "0f9d1ad4",
   "metadata": {},
   "outputs": [],
   "source": [
    "from bs4 import BeautifulSoup\n",
    "from selenium import webdriver\n",
    "from selenium.webdriver.chrome.service import Service\n",
    "from selenium.webdriver.common.by import By\n",
    "from selenium.common.exceptions import TimeoutException\n",
    "from selenium.webdriver.support.ui import WebDriverWait\n",
    "from selenium.webdriver.support import expected_conditions as EC\n",
    "import pandas as pd\n",
    "import json\n",
    "import requests\n",
    "from urllib.request import urlopen\n",
    "from datetime import datetime\n",
    "from tqdm import tqdm\n",
    "import time\n",
    "import jsonlines\n",
    "import ast\n",
    "import codecs\n",
    "import langid"
   ]
  },
  {
   "cell_type": "code",
   "execution_count": 2,
   "id": "e4d7ec8a",
   "metadata": {},
   "outputs": [
    {
     "name": "stdout",
     "output_type": "stream",
     "text": [
      "Begin Load More Clicking\n",
      "Load More button not found. Retry: 1/13\n",
      "Load More button not found. Retry: 2/13\n",
      "Load More button not found. Retry: 3/13\n",
      "Load More button not found. Retry: 4/13\n",
      "Load More button not found. Retry: 5/13\n",
      "Load More button not found. Retry: 6/13\n",
      "Load More button not found. Retry: 7/13\n",
      "Load More button not found. Retry: 8/13\n",
      "Load More button not found. Retry: 9/13\n",
      "Load More button not found. Retry: 10/13\n",
      "Load More button not found. Retry: 11/13\n",
      "Load More button not found. Retry: 12/13\n",
      "Load More button not found. Retry: 13/13\n",
      "Reached maximum retries. Unable to find Load More button.\n",
      "Clicked 760 times\n"
     ]
    }
   ],
   "source": [
    "# Specify the path to the downloaded ChromeDriver executable\n",
    "driver_path = 'chromedriver_win32/chromedriver.exe'\n",
    "\n",
    "# Create a service object using the driver path\n",
    "service = Service(driver_path)\n",
    "\n",
    "# Create a new instance of the Chrome driver\n",
    "driver = webdriver.Chrome(service=service)\n",
    "\n",
    "#Go to URL\n",
    "url = 'https://www.thepatriots.asia/'\n",
    "driver.get(url)\n",
    "\n",
    "#Continuously press load more button until all articles are loaded\n",
    "MAX_RETRIES = 13\n",
    "retry_count = 0\n",
    "click_count = 0\n",
    "\n",
    "print(\"Begin Load More Clicking\")\n",
    "while retry_count < MAX_RETRIES:\n",
    "    \n",
    "    notif_button = driver.find_elements(By.XPATH, '/html/body/div[3]/div/div/div[2]/button[2]')\n",
    "    if len(notif_button) > 0:\n",
    "            notif_button[0].click()\n",
    "            \n",
    "    notif_button2 = driver.find_elements(By.XPATH, '/html/body/div[4]/div/div/div[2]/button[2]')\n",
    "    if len(notif_button2) > 0:\n",
    "            notif_button2[0].click()\n",
    "            \n",
    "    time.sleep(1.3)\n",
    "    driver.execute_script(\"window.scrollTo(0, document.body.scrollHeight - 100);\")\n",
    "    time.sleep(1.3)\n",
    "    try:\n",
    "        load_more_button = driver.find_element(\n",
    "            By.XPATH,\n",
    "            '/html/body/div[1]/div[5]/div/div/section[5]/div/div[1]/div/div/div/section/div/div[2]/a'\n",
    "        )\n",
    "        load_more_button.click()\n",
    "        time.sleep(1.3)\n",
    "\n",
    "        # Wait for a specific element to be present\n",
    "        wait = WebDriverWait(driver, 10)\n",
    "        element = wait.until(EC.presence_of_element_located(\n",
    "            (\n",
    "                By.XPATH,\n",
    "                '/html/body/div[1]/div[5]/div/div/section[5]/div/div[1]/div/div/div/section/div/div[2]/a'\n",
    "            )))\n",
    "\n",
    "        # If the element is found, reset the retry_count and continue with further actions\n",
    "        retry_count = 0\n",
    "        click_count += 1\n",
    "\n",
    "    except Exception as e:\n",
    "        retry_count += 1\n",
    "        print(f\"Load More button not found. Retry: {retry_count}/{MAX_RETRIES}\")\n",
    "\n",
    "# Check if the maximum number of retries has been reached\n",
    "if retry_count == MAX_RETRIES:\n",
    "    print(\"Reached maximum retries. Unable to find Load More button.\")\n",
    "    print(f\"Clicked {click_count} times\")"
   ]
  },
  {
   "cell_type": "code",
   "execution_count": 24,
   "id": "6a387d6b",
   "metadata": {},
   "outputs": [],
   "source": [
    "patriots_hrefs = []\n",
    "# Find all div with class \"block-content\"\n",
    "div_elements = driver.find_elements(By.CLASS_NAME, 'block-content')\n",
    "\n",
    "for div_element in div_elements:\n",
    "    # Find all anchor tags within the div element\n",
    "    anchor_tags = div_element.find_elements(By.TAG_NAME, 'a')\n",
    "\n",
    "    # Extract the href attribute from each anchor tag\n",
    "    href_list = [tag.get_attribute('href') for tag in anchor_tags]\n",
    "\n",
    "    # Print the extracted href values\n",
    "    for href in href_list:\n",
    "        if \"/author/\" not in href and \"/category/\" not in href: #get only article link\n",
    "            patriots_hrefs.append(href)"
   ]
  },
  {
   "cell_type": "code",
   "execution_count": 26,
   "id": "1d0736f5",
   "metadata": {},
   "outputs": [
    {
     "data": {
      "text/plain": [
       "21178"
      ]
     },
     "execution_count": 26,
     "metadata": {},
     "output_type": "execute_result"
    }
   ],
   "source": [
    "len(patriots_hrefs)"
   ]
  },
  {
   "cell_type": "code",
   "execution_count": 31,
   "id": "ed3efc42",
   "metadata": {},
   "outputs": [],
   "source": [
    "set_patriots_hrefs = list(set(patriots_hrefs))"
   ]
  },
  {
   "cell_type": "code",
   "execution_count": 32,
   "id": "cca2a4f0",
   "metadata": {},
   "outputs": [
    {
     "data": {
      "text/plain": [
       "10592"
      ]
     },
     "execution_count": 32,
     "metadata": {},
     "output_type": "execute_result"
    }
   ],
   "source": [
    "len(set_patriots_hrefs)"
   ]
  },
  {
   "cell_type": "code",
   "execution_count": 34,
   "id": "8cf920ac",
   "metadata": {},
   "outputs": [
    {
     "data": {
      "text/plain": [
       "'https://www.thepatriots.asia/merungkai-kemisterian-tulisan-helikopter-di-kuil-firaun/'"
      ]
     },
     "execution_count": 34,
     "metadata": {},
     "output_type": "execute_result"
    }
   ],
   "source": [
    "set_patriots_hrefs[0]"
   ]
  },
  {
   "cell_type": "code",
   "execution_count": null,
   "id": "7110db1b",
   "metadata": {},
   "outputs": [],
   "source": [
    "for href in tqdm(set_patriots_hrefs):\n",
    "    while True:\n",
    "        try:\n",
    "            r = requests.get(href)\n",
    "            if r.status_code == 200:\n",
    "                break\n",
    "            else:\n",
    "                print(r.status_code)\n",
    "        except Exception as e:\n",
    "            print(e)\n",
    "            time.sleep(3.9)\n",
    "            \n",
    "    soup = BeautifulSoup(r.text, \"lxml\")\n",
    "    title = soup.find(\"h1\", attrs = {\"class\":\"is-title post-title au j\"}).text.strip()\n",
    "\n",
    "    div = soup.find_all('div', attrs = {\"class\":\"post-content-wrap has-share-float ttu\"})\n",
    "    p = [p.text for p in div[0].find_all([\"p\"]) if len(p.text.split()) > 0]\n",
    "    cleaned_p = []\n",
    "\n",
    "    append_into = True\n",
    "    for text in p:\n",
    "        if \"Perhatian sebentar…\" in text: #remove text asking for donation\n",
    "            append_into = False\n",
    "\n",
    "        if append_into:\n",
    "            cleaned_p.append(text)\n",
    "\n",
    "        if \"RM2 / RM5 / RM10 / RM50\" in text:\n",
    "            append_into = True\n",
    "    \n",
    "    data = {'url': href, 'headline': title, 'content': cleaned_p}\n",
    "    \n",
    "    with open('patriots-before.jsonl', 'a') as f:\n",
    "        json.dump(data, f)\n",
    "        f.write('\\n')"
   ]
  },
  {
   "cell_type": "code",
   "execution_count": null,
   "id": "12f85a45",
   "metadata": {},
   "outputs": [],
   "source": [
    "# Specify the input and output file paths\n",
    "input_file = \"patriots-before.jsonl\"\n",
    "output_file = \"patriots.jsonl\"\n",
    "\n",
    "langid.set_languages(['ms', 'en'])  #ISO 639-1 codes\n",
    "\n",
    "# Open the input and output files\n",
    "with jsonlines.open(input_file) as reader, jsonlines.open(output_file, mode='w') as writer:\n",
    "    # Iterate over each line in the input file\n",
    "    for line in reader:\n",
    "        # Check if the content field is empty ([] or {})\n",
    "        if line['content']:\n",
    "            # Write the non-empty line to the output file\n",
    "            decoded_list = []\n",
    "            for string in line['content']:\n",
    "                try:\n",
    "                    decoded_string = codecs.escape_decode(string)[0].decode('utf-8')\n",
    "                except ValueError:\n",
    "                    decoded_string = string\n",
    "                decoded_list.append(decoded_string)\n",
    "            line['content'] = decoded_list\n",
    "\n",
    "            writer.write(line)"
   ]
  }
 ],
 "metadata": {
  "kernelspec": {
   "display_name": "Python 3 (ipykernel)",
   "language": "python",
   "name": "python3"
  },
  "language_info": {
   "codemirror_mode": {
    "name": "ipython",
    "version": 3
   },
   "file_extension": ".py",
   "mimetype": "text/x-python",
   "name": "python",
   "nbconvert_exporter": "python",
   "pygments_lexer": "ipython3",
   "version": "3.10.11"
  }
 },
 "nbformat": 4,
 "nbformat_minor": 5
}
